{
 "cells": [
  {
   "cell_type": "markdown",
   "metadata": {},
   "source": [
    "# Observations and Insights"
   ]
  },
  {
   "cell_type": "code",
   "execution_count": 3,
   "metadata": {},
   "outputs": [
    {
     "ename": "NameError",
     "evalue": "name 'study_results_path' is not defined",
     "output_type": "error",
     "traceback": [
      "\u001b[1;31m---------------------------------------------------------------------------\u001b[0m",
      "\u001b[1;31mNameError\u001b[0m                                 Traceback (most recent call last)",
      "\u001b[1;32m<ipython-input-3-a54c4a71c21c>\u001b[0m in \u001b[0;36m<module>\u001b[1;34m\u001b[0m\n\u001b[0;32m     16\u001b[0m \u001b[1;31m#Read the mouse data and the study results\u001b[0m\u001b[1;33m\u001b[0m\u001b[1;33m\u001b[0m\u001b[1;33m\u001b[0m\u001b[0m\n\u001b[0;32m     17\u001b[0m \u001b[0mtestmouse_metadata\u001b[0m \u001b[1;33m=\u001b[0m \u001b[0mpd\u001b[0m\u001b[1;33m.\u001b[0m\u001b[0mread_csv\u001b[0m\u001b[1;33m(\u001b[0m\u001b[0mmouse_metadata_path\u001b[0m\u001b[1;33m)\u001b[0m\u001b[1;33m\u001b[0m\u001b[1;33m\u001b[0m\u001b[0m\n\u001b[1;32m---> 18\u001b[1;33m \u001b[0mstudy_results\u001b[0m \u001b[1;33m=\u001b[0m \u001b[0mpd\u001b[0m\u001b[1;33m.\u001b[0m\u001b[0mread_csv\u001b[0m\u001b[1;33m(\u001b[0m\u001b[0mstudy_results_path\u001b[0m\u001b[1;33m)\u001b[0m\u001b[1;33m\u001b[0m\u001b[1;33m\u001b[0m\u001b[0m\n\u001b[0m\u001b[0;32m     19\u001b[0m \u001b[1;33m\u001b[0m\u001b[0m\n\u001b[0;32m     20\u001b[0m \u001b[1;31m#Combine the data into a single dataset\u001b[0m\u001b[1;33m\u001b[0m\u001b[1;33m\u001b[0m\u001b[1;33m\u001b[0m\u001b[0m\n",
      "\u001b[1;31mNameError\u001b[0m: name 'study_results_path' is not defined"
     ]
    }
   ],
   "source": [
    "#Dependencies and Setup\n",
    "import matplotlib.pyplot as plt\n",
    "import pandas as pd\n",
    "import sys as st\n",
    "import numpy as np\n",
    "import csv\n",
    " \n",
    "#Hide warning messages in notebook\n",
    "import warnings\n",
    "warnings.filterwarnings('ignore')\n",
    "\n",
    "#Study data files\n",
    "mouse_metadata_path = \"data/Mouse_metadata.csv\"\n",
    "study_results_path = \"data/Study_results.csv\"\n",
    "\n",
    "#Read the mouse data and the study results\n",
    "mouse_metadata = pd.read_csv(mouse_metadata_path)\n",
    "study_results = pd.read_csv(study_results_path)\n",
    "\n",
    "#Combine the data into a single dataset\n",
    "combined_results = pd.merge(testmouse_metadata, mousestudy_results, on = \"Mouse ID\")\n",
    "combined_results\n",
    "\n",
    "#Display the data table for preview\n",
    "drugs_grouped = combined_results.groupby([\"Drug Regimen\"])\n",
    "drugs_group_mean = round(drugs_grouped[\"Tumor Volume (mm3)\"].mean(),2)\n",
    "drugs_group_median = round(drugs_grouped[\"Tumor Volume (mm3)\"].median(),2)\n",
    "drugs_group_var = round(drugs_grouped[\"Tumor Volume (mm3)\"].var(),2)\n",
    "drugs_group_std = round(drugs_grouped[\"Tumor Volume (mm3)\"].std(),2)\n",
    "drugs_group_sem = round(drugs_grouped[\"Tumor Volume (mm3)\"].sem(),2)\n",
    "drug_groupsummary_stats_df = pd.DataFrame({\"Mean Volume\":drugs_group_mean,\n",
    "                                 \"Median Volume\":drugs_group_median,\n",
    "                                 \"Variance\":drugs_group_var,\n",
    "                                 \"Standard Deviation\":drugs_group_std,\n",
    "                                 \"Standard Error of Measurment\":drugs_group_sem})\n",
    "drug_groupsummary_stats_df"
   ]
  },
  {
   "cell_type": "code",
   "execution_count": 4,
   "metadata": {},
   "outputs": [
    {
     "data": {
      "text/plain": [
       "249"
      ]
     },
     "execution_count": 4,
     "metadata": {},
     "output_type": "execute_result"
    }
   ],
   "source": [
    "#Checking the number of mice.\n",
    "testmouse_metadata[\"Mouse ID\"].count()"
   ]
  },
  {
   "cell_type": "code",
   "execution_count": null,
   "metadata": {},
   "outputs": [],
   "source": [
    "#Getting the duplicate mice by ID number that shows up for Mouse ID and Timepoint. \n",
    "mousestudy_results['Mouse ID'].value_counts().head(25)"
   ]
  },
  {
   "cell_type": "code",
   "execution_count": null,
   "metadata": {},
   "outputs": [],
   "source": [
    "#Optional: Get all the data for the duplicate mouse ID. \n",
    "mousestudy_results = study_results.set_index(\"Mouse ID\")"
   ]
  },
  {
   "cell_type": "code",
   "execution_count": null,
   "metadata": {},
   "outputs": [],
   "source": [
    "#Create a clean DataFrame by dropping the duplicate mouse by its ID.\n",
    "mousestudy_results_droppedIndexData = mousestudy_results.loc['g989', :]\n",
    "mousestudy_results_droppedIndexData.head(25)"
   ]
  },
  {
   "cell_type": "code",
   "execution_count": null,
   "metadata": {},
   "outputs": [],
   "source": [
    "#Checking the number of mice in the clean DataFrame.\n",
    "mousestudy_results = study_results.reset_index()\n",
    "mousestudy_results['Mouse ID'].value_counts().head(25)"
   ]
  },
  {
   "cell_type": "markdown",
   "metadata": {},
   "source": [
    "## Summary Statistics"
   ]
  },
  {
   "cell_type": "code",
   "execution_count": null,
   "metadata": {},
   "outputs": [],
   "source": [
    "#Generate a summary statistics table of mean, median, variance, standard deviation, and SEM of the tumor volume for each regimen\n",
    "#This method is the most straighforward, creating multiple series and putting them all together at the end.\n",
    "combined_micestudy_results = pd.merge(testmouse_metadata, mousestudy_results, on=\"Mouse ID\")\n",
    "combined_micestudy_results.head(10)\n",
    "\n",
    "\n",
    "testmice_grouped = combined_micestudy_results.groupby(\"Drug Regimen\")\n",
    "testmice_statistics_table = testmice_grouped[\"Tumor Volume (mm3)\"].agg(['mean', 'median', 'var', 'std', 'sem'])\n",
    "\n",
    "testmice_statistics_table = testmice_statistics_table.rename(columns={\"mean\":\"Mean\",\n",
    "                                                              \"Median\":\"Median\",\n",
    "                                                              \"var\":\"Variance\",\n",
    "                                                              \"std\" : \"Standard Deviation\",\n",
    "                                                              \"sem\" : \"SEM\"})\n",
    "\n",
    "testmice_statistics_table\n"
   ]
  },
  {
   "cell_type": "code",
   "execution_count": null,
   "metadata": {},
   "outputs": [],
   "source": [
    "#Generate a summary statistics table of mean, median, variance, standard deviation, and SEM of the tumor volume for each regimen\n",
    "#This method produces everything in a single groupby function\n",
    "namemice_grouped_timepoint =testmice_grouped[\"Timepoint\"].value_counts()"
   ]
  },
  {
   "cell_type": "markdown",
   "metadata": {},
   "source": [
    "## Bar and Pie Charts"
   ]
  },
  {
   "cell_type": "code",
   "execution_count": null,
   "metadata": {},
   "outputs": [],
   "source": [
    "#Generate a bar plot showing the total number of mice for each treatment throughout the course of the study using pandas. \n",
    "Unique_drugsRegimen_values = combined_micestudy_results[\"Drug Regimen\"].unique() \n",
    "Unique_drugsRegimen_values = sorted(Unique_drugsRegimen_values)\n",
    "Unique_Timepoint_values = combined_micestudy_results[\"Timepoint\"].unique() \n",
    "testmice_grouped_timepoint = combined_micestudy_results.groupby([\"Timepoint\"])\n",
    "\n",
    "# to get mice count for each timepoint grouped by sorted drug name\n",
    "testmice_grouped_drugsregimen =testmice_grouped_timepoint[\"Drug Regimen\"].value_counts().sort_index().to_list()\n",
    "\n",
    "counter = 0\n",
    "combined_micecount_list = []\n",
    "x_axis = np.arange(len(Unique_drugsRegimen_values))\n",
    "\n",
    "for i in range(len(Unique_drugsRegimen_values)): \n",
    "    micecount_pertimepoint_list = []\n",
    "    for j in range(len(Unique_Timepoint_values)): \n",
    "        \n",
    "        micecount_pertimepoint_list.append(testmice_grouped_drugsregimen[counter])\n",
    "        counter = counter + 1\n",
    "    \n",
    "    combined_micecount_list.append(micecount_pertimepoint_list)\n",
    "\n",
    "data = np.array(combined_micecount_list)\n",
    "\n",
    "#colors used for each timepoint bar \n",
    "color_list = ['C10', 'C9', 'C8', 'C7', 'C6', 'C5', 'C4', 'C3', 'C2', 'C1', 'C0']\n",
    "fig = plt.gcf()\n",
    "fig.set_size_inches(11, 8)\n",
    "width = 0.4\n",
    "\n",
    "#loop for each timepoint to create stacked bar plot\n",
    "X = np.arange(data.shape[1])\n",
    "for i in range(data.shape[0]):  \n",
    "  plt.bar(X, data[i],width, bottom = np.sum(data[:i], axis = 0), color = color_list[i % len(color_list)])\n",
    "\n",
    "plt.xlabel('Drug Regimen', fontsize=14)\n",
    "plt.ylabel('Number of Mice per Timepoint', fontsize=14)\n",
    "plt.xticks(X, Unique_drugsRegimen_values,rotation=90)\n",
    "plt.legend(Unique_Timepoint_values,loc='upper center', bbox_to_anchor=(0.5, 1.05),\n",
    "          ncol=3, fancybox=True, shadow=True)\n",
    "\n",
    "plt.show()\n"
   ]
  },
  {
   "cell_type": "code",
   "execution_count": null,
   "metadata": {},
   "outputs": [],
   "source": [
    "# #Generate a bar plot showing the total number of mice for each treatment throughout the course of the study using pyplot.\n",
    "# #find the number of mice per drug regimen\n",
    "# testmice_grouped = combined_micestudy_results.groupby(\"Drug Regimen\")\n",
    "# mice_per_treatment = single_mouse.groupby(['Drug Regimen']).count()['Mouse ID']\n",
    "\n",
    "# #create an array \n",
    "# users = mice_per_treatment\n",
    "# users\n",
    "\n",
    "# x_axis = np.arange(len(users))\n",
    "# x_axis\n",
    "\n",
    "# #plot the data to a bar graph\n",
    "# plt.bar(x=x_axis, height=users, color='r', alpha=1, align='center')\n",
    "\n",
    "# #label the bars\n",
    "# plt.xticks(x_axis, ['Capomulin', 'Ceftamin', 'Infubinol', 'Ketapril', 'Naftisol', 'Placebo', 'Propriva',' Ramicane', 'Stelasyn', 'Zoniferol'], rotation=90)\n",
    "# plt.title('Number of Mice per Drug Regimen')\n",
    "# plt.ylabel('Number of Mice')\n",
    "# plt.xlabel('Drug Regimen')\n"
   ]
  },
  {
   "cell_type": "code",
   "execution_count": null,
   "metadata": {},
   "outputs": [],
   "source": [
    "#Generate a pie plot showing the distribution of female versus male mice using pandas\n",
    "filtered = combined_micestudy_results.loc[(combined_micestudy_results[\"Timepoint\"] == 0)] \n",
    "micegrouped_sex_count = filtered[\"Sex\"].value_counts() \n",
    "\n",
    "colors = [\"blue\", \"orange\"]\n",
    "micegrouped_sex_count.plot(kind='pie', subplots=True, colors = colors, autopct=\"%.2f%%\", startangle=140)\n",
    "plt.axis('equal')\n",
    "plt.xlabel(\"Mice Count By Gender\")\n",
    "plt.ylabel(\"\")\n",
    "plt.show()\n",
    "\n"
   ]
  },
  {
   "cell_type": "code",
   "execution_count": null,
   "metadata": {},
   "outputs": [],
   "source": [
    "# Generate a pie plot showing the distribution of female versus male mice using pyplot\n",
    "\n"
   ]
  },
  {
   "cell_type": "markdown",
   "metadata": {},
   "source": [
    "## Quartiles, Outliers and Boxplots"
   ]
  },
  {
   "cell_type": "code",
   "execution_count": null,
   "metadata": {},
   "outputs": [],
   "source": [
    "# Calculate the final tumor volume of each mouse across four of the treatment regimens:  \n",
    "# Capomulin, Ramicane, Infubinol, and Ceftamin\n",
    "\n",
    "# Start by getting the last (greatest) timepoint for each mouse\n",
    "\n",
    "\n",
    "# Merge this group df with the original dataframe to get the tumor volume at the last timepoint\n"
   ]
  },
  {
   "cell_type": "code",
   "execution_count": null,
   "metadata": {},
   "outputs": [],
   "source": [
    "# Put treatments into a list for for loop (and later for plot labels)\n",
    "\n",
    "\n",
    "# Create empty list to fill with tumor vol data (for plotting)\n",
    "\n",
    "\n",
    "# Calculate the IQR and quantitatively determine if there are any potential outliers. \n",
    "\n",
    "    \n",
    "    # Locate the rows which contain mice on each drug and get the tumor volumes\n",
    "    \n",
    "    \n",
    "    # add subset \n",
    "    \n",
    "    \n",
    "    # Determine outliers using upper and lower bounds\n",
    "    "
   ]
  },
  {
   "cell_type": "code",
   "execution_count": null,
   "metadata": {},
   "outputs": [],
   "source": [
    "# Generate a box plot of the final tumor volume of each mouse across four regimens of interest\n"
   ]
  },
  {
   "cell_type": "markdown",
   "metadata": {},
   "source": [
    "## Line and Scatter Plots"
   ]
  },
  {
   "cell_type": "code",
   "execution_count": null,
   "metadata": {},
   "outputs": [],
   "source": [
    "# Generate a line plot of time point versus tumor volume for a mouse treated with Capomulin\n"
   ]
  },
  {
   "cell_type": "code",
   "execution_count": null,
   "metadata": {},
   "outputs": [],
   "source": [
    "# Generate a scatter plot of mouse weight versus average tumor volume for the Capomulin regimen\n"
   ]
  },
  {
   "cell_type": "markdown",
   "metadata": {},
   "source": [
    "## Correlation and Regression"
   ]
  },
  {
   "cell_type": "code",
   "execution_count": null,
   "metadata": {},
   "outputs": [],
   "source": [
    "# Calculate the correlation coefficient and linear regression model \n",
    "# for mouse weight and average tumor volume for the Capomulin regimen\n"
   ]
  },
  {
   "cell_type": "code",
   "execution_count": null,
   "metadata": {},
   "outputs": [],
   "source": []
  }
 ],
 "metadata": {
  "anaconda-cloud": {},
  "kernelspec": {
   "display_name": "Python 3",
   "language": "python",
   "name": "python3"
  },
  "language_info": {
   "codemirror_mode": {
    "name": "ipython",
    "version": 3
   },
   "file_extension": ".py",
   "mimetype": "text/x-python",
   "name": "python",
   "nbconvert_exporter": "python",
   "pygments_lexer": "ipython3",
   "version": "3.8.3"
  }
 },
 "nbformat": 4,
 "nbformat_minor": 4
}
